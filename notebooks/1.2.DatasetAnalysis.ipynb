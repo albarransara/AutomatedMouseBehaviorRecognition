{
 "cells": [
  {
   "cell_type": "markdown",
   "metadata": {},
   "source": [
    "# Brief Data Analysis\n",
    "\n",
    "- Explore the class distribution for each binary problem\n",
    "- Describe the characteristics of each behavior within the video"
   ]
  },
  {
   "cell_type": "code",
   "execution_count": 2,
   "metadata": {},
   "outputs": [],
   "source": [
    "import pandas as pd\n",
    "import os"
   ]
  },
  {
   "cell_type": "code",
   "execution_count": 3,
   "metadata": {},
   "outputs": [],
   "source": [
    "labels_location = '../data/processed/ImageDatasetRGB/labels'\n",
    "dfs = [pd.read_csv(os.path.join(labels_location, csv)) for csv in os.listdir(labels_location)]"
   ]
  },
  {
   "cell_type": "code",
   "execution_count": 4,
   "metadata": {},
   "outputs": [
    {
     "name": "stdout",
     "output_type": "stream",
     "text": [
      "Grooming samples:\n",
      "\tPositive samples: 2685 (1.9684%)\n",
      "\tTotal samples: 136405\n",
      "Rearing samples:\n",
      "\tPositive samples: 12124 (8.8882%)\n",
      "\tTotal samples: 136405\n"
     ]
    }
   ],
   "source": [
    "behaviors = dfs[0].columns\n",
    "\n",
    "for behavior in behaviors:\n",
    "    total = 0\n",
    "    pos = 0\n",
    "    for df in dfs:\n",
    "        total += len(df)\n",
    "        pos += df[behavior].sum()\n",
    "\n",
    "    print('{} samples:'.format(behavior.capitalize()))\n",
    "    print('\\tPositive samples: {} ({}%)'.format(pos, round(100*pos/total, 4)))\n",
    "    print('\\tTotal samples: {}'.format(total))"
   ]
  },
  {
   "cell_type": "code",
   "execution_count": 5,
   "metadata": {},
   "outputs": [],
   "source": [
    "groomings = []\n",
    "mid_rearings = []\n",
    "wall_rearings = []\n",
    "for df in dfs:\n",
    "    groom_duration = 0\n",
    "    mid_rear_duration = 0\n",
    "    wall_rear_duration = 0\n",
    "\n",
    "    for i, row in df.iterrows():\n",
    "        if row['grooming'] == 1:\n",
    "            groom_duration += 1\n",
    "        else:\n",
    "            if groom_duration > 5: # append only if the duration > 5\n",
    "                groomings.append(groom_duration)\n",
    "            groom_duration = 0\n",
    "        if row['rearing'] == 1:\n",
    "            mid_rear_duration += 1\n",
    "        else:\n",
    "            if mid_rear_duration > 5:\n",
    "                mid_rearings.append(mid_rear_duration)\n",
    "            mid_rear_duration = 0\n",
    "        "
   ]
  },
  {
   "cell_type": "code",
   "execution_count": 6,
   "metadata": {},
   "outputs": [
    {
     "name": "stdout",
     "output_type": "stream",
     "text": [
      "Groomings Duration: 111.875 frames\n",
      "Rearings Duration: 29.25728155339806 frames\n"
     ]
    }
   ],
   "source": [
    "import numpy as np\n",
    "\n",
    "groomings = np.array(groomings)\n",
    "mid_rearings = np.array(mid_rearings)\n",
    "wall_rearings = np.array(wall_rearings)\n",
    "\n",
    "print('Groomings Duration: {} frames'.format(groomings.mean()))\n",
    "print('Rearings Duration: {} frames'.format(mid_rearings.mean()))"
   ]
  },
  {
   "cell_type": "code",
   "execution_count": 7,
   "metadata": {},
   "outputs": [
    {
     "name": "stdout",
     "output_type": "stream",
     "text": [
      "Max groomings Duration: 130 frames\n",
      "Min rearings Duration: 6 frames\n"
     ]
    }
   ],
   "source": [
    "print('Max groomings Duration: {} frames'.format(groomings.max()))\n",
    "print('Min rearings Duration: {} frames'.format(mid_rearings.min()))"
   ]
  }
 ],
 "metadata": {
  "kernelspec": {
   "display_name": "Python 3 (ipykernel)",
   "language": "python",
   "name": "python3"
  },
  "language_info": {
   "codemirror_mode": {
    "name": "ipython",
    "version": 3
   },
   "file_extension": ".py",
   "mimetype": "text/x-python",
   "name": "python",
   "nbconvert_exporter": "python",
   "pygments_lexer": "ipython3",
   "version": "3.10.10"
  },
  "vscode": {
   "interpreter": {
    "hash": "79da1f634b9d48f5768811b03fe06bbb63e4e3154741404ab553ecc445a12d48"
   }
  }
 },
 "nbformat": 4,
 "nbformat_minor": 4
}
