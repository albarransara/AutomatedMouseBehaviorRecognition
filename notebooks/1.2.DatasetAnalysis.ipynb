{
 "cells": [
  {
   "cell_type": "markdown",
   "metadata": {},
   "source": [
    "# Brief Data Analysis\n",
    "\n",
    "- Explore the class distribution for each binary problem\n",
    "- Describe the characteristics of each behavior within the video"
   ]
  },
  {
   "cell_type": "code",
   "execution_count": 1,
   "metadata": {},
   "outputs": [],
   "source": [
    "import pandas as pd\n",
    "import os"
   ]
  },
  {
   "cell_type": "code",
   "execution_count": 2,
   "metadata": {},
   "outputs": [],
   "source": [
    "labels_location = '../data/processed/ImageDatasetRGB/labels'\n",
    "dfs = [pd.read_csv(os.path.join(labels_location, csv)) for csv in os.listdir(labels_location)]"
   ]
  },
  {
   "cell_type": "code",
   "execution_count": 3,
   "metadata": {},
   "outputs": [
    {
     "name": "stdout",
     "output_type": "stream",
     "text": [
      "Grooming samples:\n",
      "\tPositive samples: 12077 (10.7638%)\n",
      "\tTotal samples: 112200\n",
      "Rearing_mig samples:\n",
      "\tPositive samples: 11881 (10.5891%)\n",
      "\tTotal samples: 112200\n",
      "Rearing_paret samples:\n",
      "\tPositive samples: 14759 (13.1542%)\n",
      "\tTotal samples: 112200\n"
     ]
    }
   ],
   "source": [
    "behaviors = dfs[0].columns\n",
    "\n",
    "for behavior in behaviors:\n",
    "    total = 0\n",
    "    pos = 0\n",
    "    for df in dfs:\n",
    "        total += len(df)\n",
    "        pos += df[behavior].sum()\n",
    "\n",
    "    print('{} samples:'.format(behavior.capitalize()))\n",
    "    print('\\tPositive samples: {} ({}%)'.format(pos, round(100*pos/total, 4)))\n",
    "    print('\\tTotal samples: {}'.format(total))"
   ]
  },
  {
   "cell_type": "code",
   "execution_count": 4,
   "metadata": {},
   "outputs": [],
   "source": [
    "groomings = []\n",
    "mid_rearings = []\n",
    "wall_rearings = []\n",
    "for df in dfs:\n",
    "    groom_duration = 0\n",
    "    mid_rear_duration = 0\n",
    "    wall_rear_duration = 0\n",
    "\n",
    "    for i, row in df.iterrows():\n",
    "        if row['grooming'] == 1:\n",
    "            groom_duration += 1\n",
    "        else:\n",
    "            if groom_duration > 5: # append only if the duration > 5\n",
    "                groomings.append(groom_duration)\n",
    "            groom_duration = 0\n",
    "        if row['rearing_mig'] == 1:\n",
    "            mid_rear_duration += 1\n",
    "        else:\n",
    "            if mid_rear_duration > 5:\n",
    "                mid_rearings.append(mid_rear_duration)\n",
    "            mid_rear_duration = 0\n",
    "        if row['rearing_paret'] == 1:\n",
    "            wall_rear_duration += 1\n",
    "        else:\n",
    "            if wall_rear_duration > 5:\n",
    "                wall_rearings.append(wall_rear_duration)\n",
    "            wall_rear_duration = 0"
   ]
  },
  {
   "cell_type": "code",
   "execution_count": 5,
   "metadata": {},
   "outputs": [
    {
     "name": "stdout",
     "output_type": "stream",
     "text": [
      "Groomings Duration: 106.95535714285714 frames\n",
      "Mid Rearings Duration: 24.455301455301456 frames\n",
      "Wall Rearings Duration: 21.288824383164005 frames\n"
     ]
    }
   ],
   "source": [
    "import numpy as np\n",
    "\n",
    "groomings = np.array(groomings)\n",
    "mid_rearings = np.array(mid_rearings)\n",
    "wall_rearings = np.array(wall_rearings)\n",
    "\n",
    "print('Groomings Duration: {} frames'.format(groomings.mean()))\n",
    "print('Mid Rearings Duration: {} frames'.format(mid_rearings.mean()))\n",
    "print('Wall Rearings Duration: {} frames'.format(wall_rearings.mean()))"
   ]
  },
  {
   "cell_type": "code",
   "execution_count": null,
   "metadata": {},
   "outputs": [],
   "source": []
  }
 ],
 "metadata": {
  "kernelspec": {
   "display_name": "Python 3 (ipykernel)",
   "language": "python",
   "name": "python3"
  },
  "language_info": {
   "codemirror_mode": {
    "name": "ipython",
    "version": 3
   },
   "file_extension": ".py",
   "mimetype": "text/x-python",
   "name": "python",
   "nbconvert_exporter": "python",
   "pygments_lexer": "ipython3",
   "version": "3.9.17"
  },
  "vscode": {
   "interpreter": {
    "hash": "79da1f634b9d48f5768811b03fe06bbb63e4e3154741404ab553ecc445a12d48"
   }
  }
 },
 "nbformat": 4,
 "nbformat_minor": 2
}
