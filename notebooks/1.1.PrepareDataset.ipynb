{
 "cells": [
  {
   "cell_type": "markdown",
   "metadata": {},
   "source": [
    "# Dataset Preparation\n",
    "\n",
    "- Split the videos into its frames and crop them using the DeepLabCut midbody position\n",
    "- Extract the labels from the DeepLabCutFiles"
   ]
  },
  {
   "cell_type": "code",
   "execution_count": 1,
   "metadata": {},
   "outputs": [],
   "source": [
    "import os\n",
    "import pandas as pd\n",
    "import numpy as np\n",
    "import cv2"
   ]
  },
  {
   "cell_type": "code",
   "execution_count": 2,
   "metadata": {},
   "outputs": [],
   "source": [
    "# Set and create the source and destination folders\n",
    "videos_src_folder = '../data/raw/videos'\n",
    "excels_src_folder = '../data/raw/excels'\n",
    "csvs_src_folder = '../data/raw/csvs'\n",
    "\n",
    "dataset_dest_folder = '../data/processed/ImageDatasetRGB'\n",
    "try:\n",
    "    if not os.path.exists(os.path.dirname(dataset_dest_folder)):\n",
    "        os.mkdir(dataset_dest_folder)\n",
    "        os.mkdir(os.path.join(dataset_dest_folder, 'features'))\n",
    "        os.mkdir(os.path.join(dataset_dest_folder, 'labels'))    \n",
    "\n",
    "except OSError as err:\n",
    "    print(err)\n",
    "    print('Dataset Destination Folders already exists')"
   ]
  },
  {
   "cell_type": "code",
   "execution_count": 3,
   "metadata": {},
   "outputs": [],
   "source": [
    "# Read the content from the source folders\n",
    "excels = sorted(os.listdir(excels_src_folder), key=lambda x: x.split('.')[0][-4:])[1:]\n",
    "csvs = sorted(os.listdir(csvs_src_folder), key=lambda x: x.split('.')[0][-4:])[1:]\n",
    "videos = sorted(os.listdir(videos_src_folder))[1:]"
   ]
  },
  {
   "cell_type": "code",
   "execution_count": 7,
   "metadata": {},
   "outputs": [
    {
     "name": "stdout",
     "output_type": "stream",
     "text": [
      "(6600, 86)\n",
      "(6600, 3)\n",
      "(6600, 86)\n",
      "(6600, 3)\n",
      "(6600, 86)\n",
      "(6600, 3)\n",
      "(6600, 86)\n",
      "(6600, 3)\n",
      "(6600, 86)\n",
      "(6600, 3)\n",
      "(6600, 86)\n",
      "(6600, 3)\n",
      "(6600, 86)\n",
      "(6600, 3)\n",
      "(6600, 86)\n",
      "(6600, 3)\n",
      "(6600, 86)\n",
      "(6600, 3)\n",
      "(6600, 86)\n",
      "(6600, 3)\n",
      "(6600, 86)\n",
      "(6600, 3)\n",
      "(6600, 86)\n",
      "(6600, 3)\n",
      "(6600, 86)\n",
      "(6600, 3)\n",
      "(6600, 86)\n",
      "(6600, 3)\n",
      "(6600, 86)\n",
      "(6600, 3)\n",
      "(6600, 86)\n",
      "(6600, 3)\n",
      "(6600, 86)\n",
      "(6600, 3)\n"
     ]
    }
   ],
   "source": [
    "expansion = 80\n",
    "\n",
    "for excel, csv, video in zip(excels, csvs, videos):\n",
    "    # Get labels from excel\n",
    "    \n",
    "    # Read columns from excels corresponding to the 3 behaviours\n",
    "    df_excel = pd.read_excel(os.path.join(excels_src_folder, excel), header=0, usecols='E,F,G')\n",
    "    # Drop first 2 rows \n",
    "    df_excel.drop(index=[0,1], inplace=True)\n",
    "    # Change voids per 0 \n",
    "    df_excel.fillna(0, inplace=True)\n",
    "    # Change marked cells for 1\n",
    "    df_excel.replace([\"x\", \"X\"], 1, inplace=True)\n",
    "    # Change blank space in column titles per _\n",
    "    df_excel.columns = [col.lower().replace(' ','_') for col in df_excel.columns]\n",
    "    # Change data format \n",
    "    df_excel = df_excel.astype(int)\n",
    "    # Reset row indexes\n",
    "    df_excel.reset_index(inplace=True, drop=True)\n",
    "    # Save df as csv\n",
    "    df_excel.to_csv(os.path.join(dataset_dest_folder, 'labels', excel.split('.')[0] + '.csv'), index=False)\n",
    "\n",
    "    # Split video frames and crop by the midbody position\n",
    "    #df = pd.read_csv(os.path.join(csvs_src_folder, csv), header=[0,1,2])\n",
    "    df = pd.read_csv(os.path.join(csvs_src_folder, csv), header=0)\n",
    "    print(df.shape)\n",
    "    # Replace 3 row header with a row concatenation by '_'\n",
    "    #df.columns = [('%s%s%s' % \n",
    "    #   ('%s' % a.lower() if not a.startswith(\"DLC\") else '',\n",
    "    #    ' %s' % b.lower() if not b.startswith(\"Unnamed\") else '',\n",
    "    #    ' %s' % c.lower() if not c.startswith(\"Unnamed\") else '')\n",
    "    #    ).strip().replace(' ', '_') \n",
    "    #    for a,b,c in df.columns\n",
    "    #]\n",
    "    df.columns = [col.lower().replace(' ','_') for col in df.columns]\n",
    "    df.set_index(df.columns[0], inplace=True)\n",
    "\n",
    "    midbody = np.concatenate((df['midbody_y'].values[:, np.newaxis], df['midbody_x'].values[:, np.newaxis]), axis=1)\n",
    "    midbody = midbody.astype(int)\n",
    "\n",
    "    print(df_excel.shape)\n",
    "\n",
    "    # Get video frames\n",
    "    os.mkdir(os.path.join(dataset_dest_folder, 'features', csv.split('.')[0]))\n",
    "    vidcap = cv2.VideoCapture(os.path.join(videos_src_folder, video))\n",
    "    success,image = vidcap.read()\n",
    "    count = 0\n",
    "    while success:\n",
    "        # Build frame name\n",
    "        frame_name = 'frame'\n",
    "        for i in range(4-len(str(count))):\n",
    "            frame_name += '0'\n",
    "        frame_name += str(count) + '.jpg'\n",
    "\n",
    "        # Crop image based on mouse midbody (make boxes having the mouse in the middle, should be square)\n",
    "        top = max(0, midbody[count][0] - expansion) - max(0, midbody[count][0] + expansion - image.shape[0])\n",
    "        bottom = min(image.shape[0], midbody[count][0] + expansion) + max(0, expansion - midbody[count][0])\n",
    "        left = max(0, midbody[count][1] - expansion) - max(0, midbody[count][1] + expansion - image.shape[1])\n",
    "        right = min(image.shape[1], midbody[count][1] + expansion) + max(0, expansion - midbody[count][1])\n",
    "\n",
    "        frame = image[top:bottom, left:right]\n",
    "\n",
    "        # Save frame\n",
    "        cv2.imwrite(os.path.join(dataset_dest_folder, 'features', csv.split('.')[0], frame_name), frame)\n",
    "        \n",
    "        success, image = vidcap.read()\n",
    "        count += 1"
   ]
  },
  {
   "cell_type": "code",
   "execution_count": null,
   "metadata": {},
   "outputs": [],
   "source": []
  }
 ],
 "metadata": {
  "kernelspec": {
   "display_name": "tfgpu",
   "language": "python",
   "name": "tfgpu"
  },
  "language_info": {
   "codemirror_mode": {
    "name": "ipython",
    "version": 3
   },
   "file_extension": ".py",
   "mimetype": "text/x-python",
   "name": "python",
   "nbconvert_exporter": "python",
   "pygments_lexer": "ipython3",
   "version": "3.10.10"
  },
  "vscode": {
   "interpreter": {
    "hash": "79da1f634b9d48f5768811b03fe06bbb63e4e3154741404ab553ecc445a12d48"
   }
  }
 },
 "nbformat": 4,
 "nbformat_minor": 4
}
