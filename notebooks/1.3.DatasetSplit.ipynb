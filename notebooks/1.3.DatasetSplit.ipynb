{
 "cells": [
  {
   "cell_type": "markdown",
   "metadata": {},
   "source": [
    "# Dataset Split\n",
    "\n",
    "- Read the Dataset\n",
    "- Split into Train and Test\n",
    "- Store the split into a csv file"
   ]
  },
  {
   "cell_type": "code",
   "execution_count": 1,
   "metadata": {},
   "outputs": [],
   "source": [
    "import os\n",
    "import cv2\n",
    "import numpy as np\n",
    "import pandas as pd\n",
    "from tqdm import tqdm"
   ]
  },
  {
   "cell_type": "code",
   "execution_count": 9,
   "metadata": {},
   "outputs": [
    {
     "data": {
      "text/plain": [
       "(18, 18)"
      ]
     },
     "execution_count": 9,
     "metadata": {},
     "output_type": "execute_result"
    }
   ],
   "source": [
    "# Read the dataset folders\n",
    "dataset_path = '../data/processed/ImageDatasetRGB'\n",
    "#dataset_path = '../data/NewProcessed/ImageDatasetRGB'\n",
    "\n",
    "features = np.array(sorted(os.listdir(os.path.join(dataset_path, 'features'))))\n",
    "labels = np.array(sorted(os.listdir(os.path.join(dataset_path, 'labels'))))\n",
    "\n",
    "len(features), len(labels)"
   ]
  },
  {
   "cell_type": "code",
   "execution_count": 10,
   "metadata": {},
   "outputs": [
    {
     "data": {
      "text/plain": [
       "(17, 17)"
      ]
     },
     "execution_count": 10,
     "metadata": {},
     "output_type": "execute_result"
    }
   ],
   "source": [
    "# If DS_Store, remove it\n",
    "if len(features) > 17:\n",
    "    features = np.delete(features, 0)\n",
    "if len(labels) > 17:\n",
    "    labels = np.delete(labels, 0)\n",
    "len(features), len(labels)"
   ]
  },
  {
   "cell_type": "code",
   "execution_count": 11,
   "metadata": {},
   "outputs": [
    {
     "data": {
      "text/plain": [
       "(array([ 0,  1,  2,  4,  5,  7,  8, 11, 12, 13, 14, 16]),\n",
       " array([ 9,  3,  6, 15, 10]))"
      ]
     },
     "execution_count": 11,
     "metadata": {},
     "output_type": "execute_result"
    }
   ],
   "source": [
    "# Create the dataset partitions: training, validation and testing\n",
    "video_indexes = np.arange(len(features))\n",
    "num_testing_videos = 5\n",
    "\n",
    "np.random.seed(11)\n",
    "test_idxs = np.random.choice(video_indexes, num_testing_videos, replace=False)\n",
    "train_idxs = np.delete(video_indexes, test_idxs)\n",
    "\n",
    "train_idxs, test_idxs"
   ]
  },
  {
   "cell_type": "markdown",
   "metadata": {},
   "source": [
    "## Store the split"
   ]
  },
  {
   "cell_type": "code",
   "execution_count": 12,
   "metadata": {},
   "outputs": [
    {
     "ename": "FileExistsError",
     "evalue": "[Errno 17] File exists: '../data/processed/Dataset'",
     "output_type": "error",
     "traceback": [
      "\u001b[0;31m---------------------------------------------------------------------------\u001b[0m",
      "\u001b[0;31mFileExistsError\u001b[0m                           Traceback (most recent call last)",
      "Cell \u001b[0;32mIn[12], line 3\u001b[0m\n\u001b[1;32m      1\u001b[0m \u001b[38;5;66;03m# Create a destination folder to store the data\u001b[39;00m\n\u001b[1;32m      2\u001b[0m dataset_path \u001b[38;5;241m=\u001b[39m \u001b[38;5;124m'\u001b[39m\u001b[38;5;124m../data/processed/Dataset\u001b[39m\u001b[38;5;124m'\u001b[39m\n\u001b[0;32m----> 3\u001b[0m \u001b[43mos\u001b[49m\u001b[38;5;241;43m.\u001b[39;49m\u001b[43mmkdir\u001b[49m\u001b[43m(\u001b[49m\u001b[43mdataset_path\u001b[49m\u001b[43m)\u001b[49m\n",
      "\u001b[0;31mFileExistsError\u001b[0m: [Errno 17] File exists: '../data/processed/Dataset'"
     ]
    }
   ],
   "source": [
    "# Create a destination folder to store the data\n",
    "dataset_path = '../data/processed/Dataset'\n",
    "os.mkdir(dataset_path)"
   ]
  },
  {
   "cell_type": "code",
   "execution_count": 8,
   "metadata": {},
   "outputs": [],
   "source": [
    "dataset_split = pd.DataFrame({\n",
    "    'name': features,\n",
    "    'set': ['train' if i in train_idxs else 'test' for i in video_indexes]\n",
    "})\n",
    "dataset_split.to_csv(os.path.join(dataset_path, 'split.csv'), index=None)"
   ]
  },
  {
   "cell_type": "code",
   "execution_count": null,
   "metadata": {},
   "outputs": [],
   "source": []
  }
 ],
 "metadata": {
  "kernelspec": {
   "display_name": "Python 3 (ipykernel)",
   "language": "python",
   "name": "python3"
  },
  "language_info": {
   "codemirror_mode": {
    "name": "ipython",
    "version": 3
   },
   "file_extension": ".py",
   "mimetype": "text/x-python",
   "name": "python",
   "nbconvert_exporter": "python",
   "pygments_lexer": "ipython3",
   "version": "3.10.10"
  },
  "vscode": {
   "interpreter": {
    "hash": "79da1f634b9d48f5768811b03fe06bbb63e4e3154741404ab553ecc445a12d48"
   }
  }
 },
 "nbformat": 4,
 "nbformat_minor": 4
}
