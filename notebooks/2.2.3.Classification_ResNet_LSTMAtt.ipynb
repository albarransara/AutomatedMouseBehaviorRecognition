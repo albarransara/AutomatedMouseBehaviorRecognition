{
 "cells": [
  {
   "cell_type": "code",
   "execution_count": 4,
   "id": "cedf7f5b-49be-4751-8026-fc6b44c3e3a0",
   "metadata": {},
   "outputs": [],
   "source": [
    "import numpy as np\n",
    "import pandas as pd\n",
    "import tensorflow\n",
    "import keras\n",
    "from keras import layers\n",
    "import matplotlib.pyplot as plt\n",
    "import os \n",
    "from sklearn.metrics import precision_recall_curve\n",
    "import matplotlib.pyplot as plt\n",
    "from keras.callbacks import *"
   ]
  },
  {
   "cell_type": "markdown",
   "id": "3ada57f5-0e05-4020-9dee-3f05ddb87fdf",
   "metadata": {},
   "source": [
    "# Frame Classification using ResNet + LSTM + attention\n",
    "\n",
    "This notebook has the aim of testing LSTM RNNs with attention blocks. The main objective is to tests so it can later on can be integrated to the main pipeline. "
   ]
  },
  {
   "cell_type": "markdown",
   "id": "9de39699-8289-48d0-aacb-b6b99089877c",
   "metadata": {},
   "source": [
    "## Load data\n",
    "\n",
    "We will load the data extracted from ResNet"
   ]
  },
  {
   "cell_type": "code",
   "execution_count": 6,
   "id": "ee2efd51-af49-46a2-83a2-f37e74b373c3",
   "metadata": {},
   "outputs": [],
   "source": [
    "path = \"/Users/saraalbarran/Jupyterfiles/Uni/_ratolins/AutomatedMouseBehaviorRecognition/data/processed/.\"\n",
    "sets = {'train', 'test'}\n",
    "\n",
    "for set in sets:\n",
    "    feature_files = [f for f in sorted(os.listdir(os.path.join(path, backbone, set, 'features')))]\n",
    "    label_files = [f for f in sorted(os.listdir(os.path.join(path, backbone, set, 'labels')))]\n",
    "    features = []\n",
    "    labels = []\n",
    "    for f, l in zip(feature_files, label_files):\n",
    "        features.append(np.load(os.path.join(path, backbone, set, 'features', f)))\n",
    "        l = pd.read_csv(os.path.join(path, backbone, set, 'labels', l))\n",
    "        # If dataframe has 2 columns for rearing (mid and wall), we can convert them to just one\n",
    "        if 'Mid Rearing' and 'Wall Rearing' in l.columns:\n",
    "            l[\"Rearing\"] = np.max(l[['Mid Rearing', 'Wall Rearing']], axis=1)\n",
    "            l = l.drop(['Mid Rearing', 'Wall Rearing'], axis = 1)\n",
    "        labels.append(l.values)\n",
    "    pass"
   ]
  },
  {
   "cell_type": "markdown",
   "id": "6343ac0d-3a60-4ac7-baeb-2a03cd4e183b",
   "metadata": {},
   "source": [
    "## Model definition"
   ]
  },
  {
   "cell_type": "markdown",
   "id": "e875841e-fa10-44c9-88b8-2410a3781d92",
   "metadata": {},
   "source": [
    "## Model training"
   ]
  }
 ],
 "metadata": {
  "kernelspec": {
   "display_name": "Python 3 (ipykernel)",
   "language": "python",
   "name": "python3"
  },
  "language_info": {
   "codemirror_mode": {
    "name": "ipython",
    "version": 3
   },
   "file_extension": ".py",
   "mimetype": "text/x-python",
   "name": "python",
   "nbconvert_exporter": "python",
   "pygments_lexer": "ipython3",
   "version": "3.11.6"
  }
 },
 "nbformat": 4,
 "nbformat_minor": 5
}
